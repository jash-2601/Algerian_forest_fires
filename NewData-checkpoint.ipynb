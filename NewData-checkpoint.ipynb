{
 "cells": [
  {
   "cell_type": "code",
   "execution_count": null,
   "metadata": {
    "colab": {
     "base_uri": "https://localhost:8080/"
    },
    "id": "rypqPfvqQhYS",
    "outputId": "bfd59490-dd96-4d62-d3ef-c50b14570253"
   },
   "outputs": [],
   "source": []
  },
  {
   "cell_type": "code",
   "execution_count": 5,
   "metadata": {
    "colab": {
     "base_uri": "https://localhost:8080/"
    },
    "id": "0WdTuxRQQqsm",
    "outputId": "2aadd54b-7f98-4e33-adb2-6a988ab8a234"
   },
   "outputs": [
    {
     "name": "stdout",
     "output_type": "stream",
     "text": [
      "   Temperature    RH    Ws\n",
      "0         26.0  69.0  29.0\n",
      "1         31.0  79.0  26.0\n",
      "2         29.0  85.0  16.0\n",
      "3         37.0  52.0  10.0\n",
      "4         24.0  69.0  27.0\n"
     ]
    }
   ],
   "source": [
    "import pandas as pd\n",
    "import numpy as np\n",
    "import pickle\n",
    "\n",
    "# Define the size of the dataset\n",
    "num_samples = 5\n",
    "\n",
    "# Generate random data\n",
    "Temperature = np.random.randint(20, 40, size=num_samples)\n",
    "RH = np.random.randint(50, 90, size=num_samples)\n",
    "Ws = np.random.randint(10, 30, size=num_samples)\n",
    "Rain = np.random.uniform(0, 15, size=num_samples)\n",
    "FFMC = np.random.uniform(40, 90, size=num_samples)\n",
    "DMC = np.random.uniform(1, 20, size=num_samples)\n",
    "DC = np.random.uniform(5, 50, size=num_samples)\n",
    "ISI = np.random.uniform(0, 5, size=num_samples)\n",
    "BUI = np.random.uniform(1, 20, size=num_samples)\n",
    "FWI = np.random.uniform(0, 5, size=num_samples)\n",
    "Region = np.random.randint(0, 2, size=num_samples)\n",
    "Classes_encoded = np.random.randint(0, 2, size=num_samples)\n",
    "\n",
    "# Create a DataFrame\n",
    "df = pd.DataFrame({\n",
    "    'Temperature': Temperature,\n",
    "    'RH': RH,\n",
    "    'Ws': Ws\n",
    "})\n",
    "\n",
    "df = df.astype(float)\n",
    "\n",
    "# Display the first few rows of the DataFrame\n",
    "print(df.head())"
   ]
  },
  {
   "cell_type": "code",
   "execution_count": 6,
   "metadata": {
    "id": "Fds3w90vQUM7"
   },
   "outputs": [],
   "source": [
    "\n",
    "scale_new_data = pickle.load(open('C:\\\\Users\\\\jash\\\\scaler.pkl', 'rb'))\n",
    "lr_model = pickle.load(open('C:\\\\Users\\\\jash\\\\lr_fire.pkl', 'rb'))"
   ]
  },
  {
   "cell_type": "code",
   "execution_count": 7,
   "metadata": {
    "id": "5J19K34XQ5ro"
   },
   "outputs": [],
   "source": [
    "df_scaled = scale_new_data.transform(df)"
   ]
  },
  {
   "cell_type": "code",
   "execution_count": 8,
   "metadata": {
    "colab": {
     "base_uri": "https://localhost:8080/"
    },
    "id": "tU0qQGqBQ7Kw",
    "outputId": "b0c54a93-5172-45a7-c0c0-aa511c859ef6"
   },
   "outputs": [
    {
     "data": {
      "text/plain": [
       "array([ 9.5077568 , 10.0945526 ,  1.64018499,  8.33924146,  6.77299271])"
      ]
     },
     "execution_count": 8,
     "metadata": {},
     "output_type": "execute_result"
    }
   ],
   "source": [
    "y_pred_new = lr_model.predict(df_scaled)\n",
    "y_pred_new"
   ]
  },
  {
   "cell_type": "code",
   "execution_count": null,
   "metadata": {},
   "outputs": [],
   "source": []
  }
 ],
 "metadata": {
  "colab": {
   "provenance": []
  },
  "kernelspec": {
   "display_name": "Python 3 (ipykernel)",
   "language": "python",
   "name": "python3"
  },
  "language_info": {
   "codemirror_mode": {
    "name": "ipython",
    "version": 3
   },
   "file_extension": ".py",
   "mimetype": "text/x-python",
   "name": "python",
   "nbconvert_exporter": "python",
   "pygments_lexer": "ipython3",
   "version": "3.7.7"
  }
 },
 "nbformat": 4,
 "nbformat_minor": 1
}
